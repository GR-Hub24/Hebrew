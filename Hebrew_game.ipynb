{
 "cells": [
  {
   "cell_type": "code",
   "execution_count": 1,
   "id": "60c234fc-8cb9-4d44-bf17-5f8ccfc52720",
   "metadata": {},
   "outputs": [],
   "source": [
    "import random\n",
    "import os\n",
    "from openpyxl import Workbook, load_workbook"
   ]
  },
  {
   "cell_type": "code",
   "execution_count": 2,
   "id": "f659d393-7c90-4619-a0a9-52495da8f82b",
   "metadata": {},
   "outputs": [
    {
     "name": "stdout",
     "output_type": "stream",
     "text": [
      "{'adj. average': 'ממוצע', 'adj. be recommended': 'מומלץ', 'adj. be supposed': 'אמור', 'adj. bitter': 'מַר', 'adj. blue': 'כחול', 'adj. brown': 'חום', 'adj. close': 'קרוב', 'adj. colorful': 'צִבְעוֹנִי', 'adj. convincing': 'מְשַׁכְנֵעַ', 'adj. depend on': 'תלוי', 'adj. disgusting': 'מַגְעִיל', 'adj. dry': 'יבש', 'adj. east': 'מִזְרָח', 'adj. efficient': 'יעיל', 'adj. empty': 'ריק', 'adj. fake': 'מזויף', 'adj. far': 'רחוק', 'adj. fascinating': 'מְרַתֵּק', 'adj. full': 'שבע', 'adj. heated': 'מחומם', 'adj. impossible': 'בלתי אפשרי', 'adj. independent': 'עַצְמָאִי', 'adj. less; v. minus': 'פחות', 'adj. lonely, isolated': 'בּוֹדֵד', 'adj. long (not for ppl.)': 'ארוך', 'adj. might, may': 'עָשׂוּי ', 'adj. n. vegan': 'טִבְעוֹנִי', 'adj. near': 'קרוב', 'adj. necessary': 'הֶכְרֵחִי', 'adj. optimistic': 'אופטימי', 'adj. orange': 'כתום', 'adj. peeled': 'קלוף', 'adj. pessimistic': 'פסימי', 'adj. pink': 'ורוד', 'adj. public': 'צִבּוּרִי', 'adj. quick, swift, fast, speedy': 'מהיר', 'adj. responsible': 'אַחְרַאי', 'adj. scared': 'מפחד   ', 'adj. short (not for ppl.)': 'קצר', 'adj. sliced': 'פָּרוּס', 'adj. slim': 'רָזֶה', 'adj. slow': 'איטי', 'adj. stupid': 'טיפש', 'adj. thirsty': 'צָמֵא', 'adj. too early': 'מוקדם מדי', 'adj. usual': 'כרגיל', 'adj. washed, rinsed; drenched': 'שָׁטוּף', 'adj. west': 'מערב', 'adj. wet': 'רטוב', 'adj. wrong': 'שָׁגוּי', 'adv. as soon as possible': 'הכי מהיר שאפשר ', 'adv. even': 'אֲפִילּוּ', 'adv. forever': 'נֶצַח', 'adv. in the company of, together with': 'בְּחֶבְרָת', 'adv. in the past, in the evening ': 'בעבר', 'adv. in total, just': 'בסך הכל', 'adv. not anymore': 'כבר לא', 'adv. occasionally, sometimes, from time to time': 'מִדֵּי פַּעַם', 'adv. only': 'בִּלְבַד, רק', 'adv. recently': 'לאחרונה', 'adv. since….': 'מאז', 'adv. whereas': 'אילו', 'n. abdomen, belly; stomach': 'בֶּטֶן', 'n. ability': 'יכולת ', 'n. acquaintances': 'הֵיכָּרוּיוֹת', 'n. adj. Christian': 'נוֹצְרִי', 'n. advertisement': 'מודעה', 'n. age': 'עידן, גיל', 'n. agriculturalist': 'חקלאי', 'n. agriculture': 'חַקְלָאוּת', 'n. airplane': 'מטוס', 'n. airport': 'שְׂדֵה תְּעוּפָה', 'n. alcoholic drinks': 'משקאות חריפים', 'n. amount': 'כמות', 'n. answer': 'תשובה', 'n. architect': 'אַדְרִיכָל', 'n. argument': 'וִכּוּחַ', 'n. artist': 'אומן', 'n. atmosphere': 'אֲוִירָה', 'n. background picture': 'תמונת רֶקַע', 'n. barking': 'נְבִיחָה', 'n. bear': 'דוב', 'n. beef': 'בקר', 'n. belt': 'חֲגוֹרָה', 'n. beverage': 'מַשְׁקֶה', 'n. billion': 'מיליארד', 'n. body': 'גוף', 'n. book for passach': 'הַגָּדָה', 'n. bowl': 'קְעָרָה', 'n. bracelet': 'צמיד', 'n. brain': 'מוֹחַ', 'n. bride': 'כַּלָּה', 'n. butter': 'חֶמְאָה', 'n. calender': 'לוּחַ שָׁנָה', 'n. candies': 'ממתקים', 'n. candle': 'נֵר', 'n. capital (city)': 'הבירה', 'n. captain': 'קַבַּרְנִיט', 'n. century': 'מאה', 'n. chain; necklace': 'שַׁרְשֶׁרֶת', 'n. cherry': 'דֻּבְדְּבָן', 'n. chewing gum': 'מַסְטִיק', 'n. chicken/rooster': 'תַּרְנְגוֹל', 'n. childhood': 'ילדות', 'n. cinema': 'קוֹלְנוֹעַ', 'n. climb': 'לטפס, מטפס', 'n. coat': 'מְעִיל', 'n. commandment': 'מִצְוָה', 'n. communication': 'קומוניקציה', 'n. company; society; group of friends ': 'חֶבְרָה', 'n. computer programmer': 'מְתַכְנֵת מחשבים', 'n. concert': 'קוֹנְצֶרְט', 'n. connection, relationship': 'קשר', 'n. conversation': 'שיחה', 'n. cookie': 'עוגייה', 'n. costume, fancy dress, disguise': 'תַּחְפּוֹשֶׂת', 'n. couple': 'זוג', 'n. cow': 'פרה', 'n. cube; die': 'קֻבִּיָּה', 'n. culture': 'תַּרְבּוּת', 'n. cupid': 'קופידון', 'n. decade': 'עשור', 'n. desire, intent, wish, aspiration; will': 'רָצוֹן', 'n. director': 'בַּמַּאי', 'n. donkey': 'חמור', 'n. dorm': 'מעון', 'n. drawer': 'ארון', 'n. ears': 'אוזניים', 'n. education': 'הַשְׂכָּלָה ', 'n. Europe': 'אֵירוֹפָּה', 'n. event, happening, occasion; celebration': 'אֵרוּעַ', 'n. face; facial expression': 'פַּרְצוּף', 'n. farmer': 'אִיכָּר', 'n. fast (food)': 'צום', 'n. feet': 'רגליים', 'n. flight': 'תְּעוּפָה', 'n. flu; influenza': 'שַׁפַּעַת', 'n. furniture': 'רָהִיט', 'n. garden': 'גינה', 'n. gate': 'שַׁעַר', 'n. get dressed': 'להתלבש, מתלבש', 'n. grape': 'עֵנָב', 'n. groom': 'חתן', 'n. hair': 'שֵׂעָר', 'n. handgun': 'אֶקְדָּח', 'n. happiness': 'אושר', 'n. hat': 'כּוֹבַע', 'n. head': 'רֹאשׁ', 'n. honey': 'דבש', 'n. hope': 'מקווה', 'n. hospital': 'רפואה, בית חולים ', 'n. hungry': 'רעב', 'n. ingredients': 'מַצְרֵכִים', 'n. insect': 'חֶרֶק', 'n. intelligence, wit; common sense': 'שֵׂכֶל ', 'n. internship': 'הִתְמַחוּת', 'n. jam': 'ריבָּה', 'n. jewlery': 'תַּכְשִׁיט', 'n. journalist': 'עיתונאי', 'n. judge': 'שופט', 'n. key': 'מַפְתֵּחַ ', 'n. kind, type, sort': 'סוג', 'n. king': 'מֶלֶךְ', 'n. kitchen': 'מטבח', 'n. lake': 'אגם ', 'n. last night': 'אֶמֶשׁ', 'n. leek': 'כְּרֵישׁוֹת', 'n. legend': 'אַגָּדָה', 'n. legend, myth': 'מִיתוֹס', 'n. letter, note, message': 'מִכְתָּב', 'n. lion': 'אַרְיֵה', 'n. longing': 'גַּעְגּוּעַ', 'n. lose': 'לאבד, מאבד', 'n. machine': 'מכונה', 'n. manmade butter': 'מַרְגָּרִינָה', 'n. materials': 'חומרים', 'n. maximum': 'מקסימום', 'n. mayor': 'ראש עיר', 'n. measurement': 'מדידה', 'n. medicine': 'תְּרוּפָה', 'n. menu': 'תַּפְרִיט', 'n. midnight': 'חֲצוֹת', 'n. minimum': 'מינימום ', 'n. moment': 'רגע', 'n. monkey': 'קוף', 'n. mountain': 'הַר', 'n. mouse': 'עַכְבָּר', 'n. mouth': 'פֶּה', 'n. mushroom': 'פִּטְרִיָּה', 'n. neck': 'צַוָּאר', 'n. noise': 'רַעַשׁ', 'n. nose': 'אף', 'n. notebook': 'מַחְבֶּרֶת', 'n. nurse': 'אחות', 'n. officer': 'קָצִין ', 'n. olive': 'זַיִת', 'n. omelet lentils': 'חביתת עדשים', 'n. operation room': 'חֲדַר נִתּוּחַ', 'n. opportunity': 'הזדמנות', 'n. owl': 'יַנְשׁוּף', 'n. pain': 'כאב ', 'n. painter': 'צייר', 'n. painting': 'צִיּוּר', 'n. peach': 'אֲפַרְסֵק', 'n. peanut': 'בוטן', 'n. period, era, age; season': 'תְּקוּפָה', 'n. pet': 'חַיַּת מַחְמָד', 'n. plant': 'צֶמַח', 'n. pocket': 'כיס', 'n. police (institution or organization)': 'משטרה', 'n. police officer': 'קצין משטרה', 'n. policeman': 'שוטר', 'n. post office': 'דֹּאַר', 'n. postcard': 'גְּלוּיָה', 'n. pot': 'סיר', 'n. present time': 'הוֹוֶה', 'n. president': 'נָשִׂיא', 'n. prime minister': 'רֹאשׁ מֶמְשָׁלָה', 'n. project; proposal': 'פְּרוֹיֶקְט', 'n. purpose, goal, objective; target': 'מַטָּרָה  ', 'n. rabbit/hare/bunny': 'אַרְנָב', 'n. recipe': 'מַתְכּוֹן', 'n. relatives': 'קָרוֹב', 'n. rest': 'מְנוּחָה', 'n. rug, carpet': 'שָׁטִיחַ', 'n. safety': 'בְּתַכּוּן', 'n. salary': 'מַשְׂכֹּורֶת, שָׂכָר', 'n. sandal': 'סנדל', 'n. sandwich': 'כריך', 'n. sauce': 'רוטב', 'n. scarf': 'צָעִיף', 'n. season': 'עונה', 'n. secret': 'סוד', 'n. secretary': 'מַזְכִּיר', 'n. sentence': 'מִשְׁפָּט', 'n. serious relationship': 'קשר רציני', 'n. service man, clerk, official': 'פָּקִיד', 'n. shabbat night': 'מוצאי שבת', 'n. sign': 'סִימָן', 'n. site/website': 'אֲתָר', 'n. small store': 'קִיּוֹסְק', 'n. snake': 'נָחָשׁ', 'n. soldier': 'חייל', 'n. solution': 'פתרון', 'n. spice': 'תַּבְלִין', 'n. spider': 'עַכָּבִישׁ', 'n. spoon': 'כַּף', 'n. sport class, physical education': 'חִינּוּךְ גּוּפָנִי', 'n. star': 'כּוֹכָב', 'n. staring, unseeing': 'בוהים', 'n. store': 'חנות', 'n. suit': 'חֲלִיפָה', 'n. sunset': 'שְׁקִיעָה', 'n. swimming suit': 'בגדי ים', 'n. teaspoon': 'כַּפִּית', 'n. teeth': 'שיניים', 'n. tent': 'אוהל', 'n. the past; past, history, record': 'עבר', 'n. theater': 'תֵּאַטְרוֹן', 'n. therapist; nanny': 'מְטַפֵּל', 'n. thought': 'מַחְשָׁבָה', 'n. tie, cravat; noose; scarf': 'עֲנִיבָה', 'n. trainer, coach': 'מְאַמֵּן', 'n. truck': 'משאית', 'n. vegetarian': 'צִמְחוֹנִי', 'n. waiter': 'מֶלְצַר', 'n. watermelon': 'אבטיח', 'n. weather': 'מֶזֶג אֲוִיר ', 'v. adopt, n. effort': 'לאמץ, מאמץ', 'v. arrest': 'לעצור, עוצר', 'v. ask': 'לבקש, מבקש', 'v. bake': 'לאפות, אופה', 'v. bark': 'לנבוח, נובח', 'v. be afraid, to be scared': 'לפחוד, פוחד', 'v. be broken': 'להישבר, נשבר', 'v. be closed': 'להיסגר, נסגר', 'v. be finished': 'להיגמר, נגמר', 'v. beat/win': 'לנצח, מנצח', 'v. become': 'לַהֲפוֹך, הופך', 'v. bless': 'לברך, מברך', 'v. break': 'לשבור, שובר', 'v. brush teeth': 'לצחצח שניים', 'v. capture': 'לתפוס, תופס', 'v. change': 'לשנת, משנה', 'v. check': 'לבדוק, בודק', 'v. clean': 'לנקות, נוקה', 'v. combine, mix': 'מְעֻרְבָּב', 'v. complete, to finish': 'להשלים, משלים', 'v. confirm': 'לאשר, מאשר', 'v. connect, to associate': 'להתחבר, מתחבר', 'v. consider ': 'לשקול, שוקל', 'v. contain': 'להכיל,מכיל', 'v. create': 'לִיצוֹר, יוצר', 'v. cry': 'לבכות, בוכה', 'v. cut, to slice; to cut out': 'לחתוך, חותך', 'v. decide': 'להחליט, מחליט', 'v. dehydrate, to dry': 'לְיַבֵּשׁ, מיבש', 'v. describe': 'לְתָאֵר, מתאר', 'v. design': 'לעצב, מעצב', 'v. discover': 'לְגַלּוֹת, מגלה', 'v. Drop it!': 'עָזוּב', 'v. encounter': 'להיתקל, נִתְקַל', 'v. enter': 'להיכנס, נכנס', 'v. envy': 'לקנא, מקנא', 'v. exaggerate': 'להגזים, מגזים', 'v. feel pity, to have mercy': 'לְרַחֵם, מרחם', 'v. find': 'למצוא, מוצא', 'v. forget': 'לשכוח, שוכח', 'v. heal, to cure': 'לרפא, מרפא', 'v. hurt, to feel pain, to ache': 'לכאוב, כואב', 'v. import': 'ליבא, מיבא', 'v. improve': 'לשפר, משפר', 'v. include': 'לכלול, כולל', 'v. influence': 'להשפיע, משפיע', 'v. invent': 'להמציא, ממציא', 'v. join': 'להצטרף, מצטרף', 'v. keep, save': 'לשמור, שומר', 'v. lack, miss, disappear': 'לַחְסוֹר, חוסר', 'v. leave ': 'לעזוב, עוזב', 'v. leave, to keep, to save': 'להשאיר, משאיר', 'v. lie': 'לשקור, שוקר', 'v. light up': 'להדליק, מדליק', 'v. listen, to pay attention': 'להקשיב, מקשיב', 'v. look, to observe': 'להסתכל, מסתכל', 'v. mark': 'לסמן, מְסֻמָּן', 'v. measure ': 'למדוד, מודד', 'v. miss': 'לפספס, מפספס', 'v. n. guard': 'שומר', 'v. paint': 'לצבוע, צובע', 'v. pass, to advance, to go by; ': 'לעבור, עובר', 'v. photographing': 'לצלם, מצלם', 'v. promise': 'להבטיח, מבטיח', 'v. provide': 'לספק, מספק', 'v. put on glove': 'שם כפפה', 'v. raise, to bring up (children); to rear (animals); to grow (plants);': 'לגדל, מגדל', 'v. rent': 'לשכור, שוכר', 'v. respect': 'לכבד, מכבד', 'v. review/visit': 'לבקר, מבקר', 'v. run away': 'לברוח, בורח', 'v. save': 'להציל, מציל', 'v. sell': 'למכור, מוכר', 'v. send': 'לשלוח, שולח', 'v. shave': 'לגלח, מגלח', 'v. sign': 'לחתום, חותם', 'v. smell': 'להריח, מַרְחִיחַ ', 'v. spend time': 'לבלת, מבלה', 'v. stay ': 'להישאר, נשאר', 'v. steal': 'לגנוב, גונב', 'v. suggest, offer, advise': 'לְהַצִּיעַ, מציע', 'v. support': 'לתמוך, תומך', 'v. surprise': 'להפתיע, מַפְתִּיעַ', 'v. swear': 'להישבע, נשבע', 'v. swim': 'לשחות, שוחה', 'v. take a shower': 'להתקלח, מתקלח', 'v. teach': 'ללמד, מלמד', 'v. tidy, organize': 'לסדר, מסדר', 'v. to be washed': 'להישטף, נשטף', 'v. to exercise, to work out': 'להתאמן', 'v. to hurt, to cause pain; to sadden': 'להכאיב, מַכְאִיב', 'v. to indicate, to note, to mention': 'לצין, מצין', 'v. to take care of, to deal with': 'לטפל, מטפל', 'v. touch': 'לנגוע, נוגע', 'v. warn up, heat': 'לחמם, מחמם', 'v. wash': 'לשטוף, שוטף', 'v. waste': 'לבזבז, מבזבז', 'v. watch': 'לצפות, צופה', 'v. wearing clothes': 'לובש בגדים', 'v. wearing hat': 'חובש כובע', 'v. wearing neckless': 'עונדים שרשראות', 'v. wearing ring': 'עונד טבעת', 'v. wearing shoes': 'נועל נעליים', 'v. wearing socks': 'גורבת גרביים', 'v. wearing sunglasses': 'מַרְכִּיב משקפי שמש', 'v. weigh': 'לשקול, שוקל', 'v. wish': 'לאחל, מאחל', 'v. write down': 'לרשום, רושם'}\n"
     ]
    }
   ],
   "source": [
    "# Function to load vocabulary from an Excel file\n",
    "FILE_PATH='hebrew_vocabs.xlsx'\n",
    "\n",
    "def load_vocab_from_excel(FILE_PATH):\n",
    "    workbook = load_workbook(FILE_PATH)\n",
    "    sheet = workbook.active\n",
    "    vocab = {}\n",
    "    \n",
    "    # Assuming the English words are in column A and Hebrew words are in column B\n",
    "    for row in sheet.iter_rows(min_row=2, values_only=True):  # Start from the second row (skip header)\n",
    "        english_word, hebrew_word = row\n",
    "        vocab[english_word] = hebrew_word\n",
    "    \n",
    "    return vocab\n",
    "\n",
    "vocab = load_vocab_from_excel(FILE_PATH)\n",
    "print(vocab)"
   ]
  },
  {
   "cell_type": "code",
   "execution_count": 3,
   "id": "b460fba3-6006-4366-a238-0ca31be69394",
   "metadata": {},
   "outputs": [],
   "source": [
    "# Function to ask the question\n",
    "\n",
    "def ask_question():\n",
    "    # Select a random English word\n",
    "    english_word = random.choice(list(vocab.keys()))\n",
    "    correct_hebrew = vocab[english_word]\n",
    "\n",
    "    # Generate a list of incorrect options by removing the correct answer\n",
    "    incorrect_hebrew = list(vocab.values())\n",
    "    incorrect_hebrew.remove(correct_hebrew)\n",
    "    options = random.sample(incorrect_hebrew, 3)\n",
    "\n",
    "    # Add the correct answer to the list and shuffle the options\n",
    "    options.append(correct_hebrew)\n",
    "    random.shuffle(options)\n",
    "\n",
    "    # Display the question and options\n",
    "    print(f\"Hebrew for '{english_word}'?\")\n",
    "    for i, option in enumerate(options, 1):\n",
    "        print(f\"{i}. {option}\")\n",
    "\n",
    "    # Get user's answer\n",
    "    try:\n",
    "        choice = int(input(\"Choose the correct option (1-4): \"))\n",
    "        chosen_answer = options[choice - 1]\n",
    "    except (ValueError, IndexError):\n",
    "        print(f\"\\nInvalid choice, please enter a number between 1 and 4.\\n\")\n",
    "        return None, None, None  # Return None for both values in case of invalid input\n",
    "\n",
    "    # Check if the answer is correct\n",
    "    if chosen_answer == correct_hebrew:\n",
    "        print(f\"\\nCorrect!\\n\")\n",
    "#        results.append([english_word, chosen_answer, \"1\"])\n",
    "        return english_word, chosen_answer, \"1\"    \n",
    "    else:\n",
    "        print(f\"\\nIncorrect! The correct answer is '{correct_hebrew}'.\\n\")\n",
    "#        results.append([english_word, chosen_answer, \"0\"])\n",
    "        return english_word, chosen_answer, \"0\""
   ]
  },
  {
   "cell_type": "code",
   "execution_count": 4,
   "id": "764bf78b-5654-40b4-867f-614b2c186b61",
   "metadata": {},
   "outputs": [],
   "source": [
    "# Function to save results to a CSV file\n",
    "def save_result_to_excel(workbook, eng_word, chosen_word, result):\n",
    "    sheet = workbook.active\n",
    "    sheet.append([eng_word, chosen_word, result])\n",
    "\n",
    "# Function to load or create the workbook\n",
    "def load_or_create_workbook(filename):\n",
    "    if os.path.exists(filename):\n",
    "        # Load the existing workbook\n",
    "        workbook = load_workbook(filename)\n",
    "    else:\n",
    "        # Create a new workbook and add headers\n",
    "        workbook = Workbook()\n",
    "        sheet = workbook.active\n",
    "        sheet.title = \"Quiz Results\"\n",
    "        sheet.append([\"English Word\", \"Chosen Hebrew Word\", \"Result\"])  # Write the header\n",
    "    return workbook"
   ]
  },
  {
   "cell_type": "code",
   "execution_count": 5,
   "id": "9841ad39-b8c6-4b70-a12a-6f0b1da8242f",
   "metadata": {},
   "outputs": [],
   "source": [
    "# Main loop to ask questions and store results\n",
    "def quiz():\n",
    "    filename = \"quiz_results.xlsx\"\n",
    "    workbook = load_or_create_workbook(filename)  # Load or create the workbook\n",
    "\n",
    "    while True:\n",
    "        english_word, chosen_answer, result = ask_question()\n",
    "        if english_word and chosen_answer and result:\n",
    "            save_result_to_excel(workbook, english_word, chosen_answer, result)\n",
    "        again = input(f\"Do you want to try another word? (y/n): \\n\").lower()\n",
    "        if again != 'y':\n",
    "            break\n",
    "\n",
    "    workbook.save(\"quiz_results.xlsx\")\n",
    "\n",
    "    print(\"Results saved to 'quiz_results.xlsx'.\")\n"
   ]
  },
  {
   "cell_type": "code",
   "execution_count": 6,
   "id": "bfd552bd-357a-4767-9a6e-40f6083646d5",
   "metadata": {},
   "outputs": [
    {
     "name": "stdout",
     "output_type": "stream",
     "text": [
      "Hebrew for 'n. shabbat night'?\n",
      "1. מוצאי שבת\n",
      "2. עשור\n",
      "3. הֵיכָּרוּיוֹת\n",
      "4. לשקול, שוקל\n"
     ]
    },
    {
     "name": "stdin",
     "output_type": "stream",
     "text": [
      "Choose the correct option (1-4):  1\n"
     ]
    },
    {
     "name": "stdout",
     "output_type": "stream",
     "text": [
      "\n",
      "Correct!\n",
      "\n"
     ]
    },
    {
     "name": "stdin",
     "output_type": "stream",
     "text": [
      "Do you want to try another word? (y/n): \n",
      " y\n"
     ]
    },
    {
     "name": "stdout",
     "output_type": "stream",
     "text": [
      "Hebrew for 'n. maximum'?\n",
      "1. צָמֵא\n",
      "2. סוד\n",
      "3. לנבוח, נובח\n",
      "4. מקסימום\n"
     ]
    },
    {
     "name": "stdin",
     "output_type": "stream",
     "text": [
      "Choose the correct option (1-4):  4\n"
     ]
    },
    {
     "name": "stdout",
     "output_type": "stream",
     "text": [
      "\n",
      "Correct!\n",
      "\n"
     ]
    },
    {
     "name": "stdin",
     "output_type": "stream",
     "text": [
      "Do you want to try another word? (y/n): \n",
      " y\n"
     ]
    },
    {
     "name": "stdout",
     "output_type": "stream",
     "text": [
      "Hebrew for 'n. intelligence, wit; common sense'?\n",
      "1. להישטף, נשטף\n",
      "2. רָהִיט\n",
      "3. שֵׂכֶל \n",
      "4. אחות\n"
     ]
    },
    {
     "name": "stdin",
     "output_type": "stream",
     "text": [
      "Choose the correct option (1-4):  3\n"
     ]
    },
    {
     "name": "stdout",
     "output_type": "stream",
     "text": [
      "\n",
      "Correct!\n",
      "\n"
     ]
    },
    {
     "name": "stdin",
     "output_type": "stream",
     "text": [
      "Do you want to try another word? (y/n): \n",
      " y\n"
     ]
    },
    {
     "name": "stdout",
     "output_type": "stream",
     "text": [
      "Hebrew for 'n. safety'?\n",
      "1. משאית\n",
      "2. בְּתַכּוּן\n",
      "3. דֻּבְדְּבָן\n",
      "4. בקר\n"
     ]
    },
    {
     "name": "stdin",
     "output_type": "stream",
     "text": [
      "Choose the correct option (1-4):  2\n"
     ]
    },
    {
     "name": "stdout",
     "output_type": "stream",
     "text": [
      "\n",
      "Correct!\n",
      "\n"
     ]
    },
    {
     "name": "stdin",
     "output_type": "stream",
     "text": [
      "Do you want to try another word? (y/n): \n",
      " y\n"
     ]
    },
    {
     "name": "stdout",
     "output_type": "stream",
     "text": [
      "Hebrew for 'v. be afraid, to be scared'?\n",
      "1. לפחוד, פוחד\n",
      "2. ריבָּה\n",
      "3. שופט\n",
      "4. קרוב\n"
     ]
    },
    {
     "name": "stdin",
     "output_type": "stream",
     "text": [
      "Choose the correct option (1-4):  1\n"
     ]
    },
    {
     "name": "stdout",
     "output_type": "stream",
     "text": [
      "\n",
      "Correct!\n",
      "\n"
     ]
    },
    {
     "name": "stdin",
     "output_type": "stream",
     "text": [
      "Do you want to try another word? (y/n): \n",
      " y\n"
     ]
    },
    {
     "name": "stdout",
     "output_type": "stream",
     "text": [
      "Hebrew for 'adj. slim'?\n",
      "1. בְּחֶבְרָת\n",
      "2. רָזֶה\n",
      "3. הבירה\n",
      "4. פָּקִיד\n"
     ]
    },
    {
     "name": "stdin",
     "output_type": "stream",
     "text": [
      "Choose the correct option (1-4):  2\n"
     ]
    },
    {
     "name": "stdout",
     "output_type": "stream",
     "text": [
      "\n",
      "Correct!\n",
      "\n"
     ]
    },
    {
     "name": "stdin",
     "output_type": "stream",
     "text": [
      "Do you want to try another word? (y/n): \n",
      " y\n"
     ]
    },
    {
     "name": "stdout",
     "output_type": "stream",
     "text": [
      "Hebrew for 'n. airport'?\n",
      "1. ריק\n",
      "2. שְׂדֵה תְּעוּפָה\n",
      "3. משקאות חריפים\n",
      "4. צִבְעוֹנִי\n"
     ]
    },
    {
     "name": "stdin",
     "output_type": "stream",
     "text": [
      "Choose the correct option (1-4):  2\n"
     ]
    },
    {
     "name": "stdout",
     "output_type": "stream",
     "text": [
      "\n",
      "Correct!\n",
      "\n"
     ]
    },
    {
     "name": "stdin",
     "output_type": "stream",
     "text": [
      "Do you want to try another word? (y/n): \n",
      " y\n"
     ]
    },
    {
     "name": "stdout",
     "output_type": "stream",
     "text": [
      "Hebrew for 'v. confirm'?\n",
      "1. מטוס\n",
      "2. מַטָּרָה  \n",
      "3. לאשר, מאשר\n",
      "4. אגם \n"
     ]
    },
    {
     "name": "stdin",
     "output_type": "stream",
     "text": [
      "Choose the correct option (1-4):  2\n"
     ]
    },
    {
     "name": "stdout",
     "output_type": "stream",
     "text": [
      "\n",
      "Incorrect! The correct answer is 'לאשר, מאשר'.\n",
      "\n"
     ]
    },
    {
     "name": "stdin",
     "output_type": "stream",
     "text": [
      "Do you want to try another word? (y/n): \n",
      " y\n"
     ]
    },
    {
     "name": "stdout",
     "output_type": "stream",
     "text": [
      "Hebrew for 'n. menu'?\n",
      "1. חֶבְרָה\n",
      "2. רוטב\n",
      "3. תַּפְרִיט\n",
      "4. חביתת עדשים\n"
     ]
    },
    {
     "name": "stdin",
     "output_type": "stream",
     "text": [
      "Choose the correct option (1-4):  3\n"
     ]
    },
    {
     "name": "stdout",
     "output_type": "stream",
     "text": [
      "\n",
      "Correct!\n",
      "\n"
     ]
    },
    {
     "name": "stdin",
     "output_type": "stream",
     "text": [
      "Do you want to try another word? (y/n): \n",
      " y\n"
     ]
    },
    {
     "name": "stdout",
     "output_type": "stream",
     "text": [
      "Hebrew for 'n. pet'?\n",
      "1. לכבד, מכבד\n",
      "2. חַיַּת מַחְמָד\n",
      "3. משטרה\n",
      "4. לברוח, בורח\n"
     ]
    },
    {
     "name": "stdin",
     "output_type": "stream",
     "text": [
      "Choose the correct option (1-4):  2\n"
     ]
    },
    {
     "name": "stdout",
     "output_type": "stream",
     "text": [
      "\n",
      "Correct!\n",
      "\n"
     ]
    },
    {
     "name": "stdin",
     "output_type": "stream",
     "text": [
      "Do you want to try another word? (y/n): \n",
      " y\n"
     ]
    },
    {
     "name": "stdout",
     "output_type": "stream",
     "text": [
      "Hebrew for 'n. get dressed'?\n",
      "1. ורוד\n",
      "2. להתלבש, מתלבש\n",
      "3. יכולת \n",
      "4. מְשַׁכְנֵעַ\n"
     ]
    },
    {
     "name": "stdin",
     "output_type": "stream",
     "text": [
      "Choose the correct option (1-4):  2\n"
     ]
    },
    {
     "name": "stdout",
     "output_type": "stream",
     "text": [
      "\n",
      "Correct!\n",
      "\n"
     ]
    },
    {
     "name": "stdin",
     "output_type": "stream",
     "text": [
      "Do you want to try another word? (y/n): \n",
      " y\n"
     ]
    },
    {
     "name": "stdout",
     "output_type": "stream",
     "text": [
      "Hebrew for 'n. period, era, age; season'?\n",
      "1. רָהִיט\n",
      "2. תְּקוּפָה\n",
      "3. אף\n",
      "4. עוגייה\n"
     ]
    },
    {
     "name": "stdin",
     "output_type": "stream",
     "text": [
      "Choose the correct option (1-4):  2\n"
     ]
    },
    {
     "name": "stdout",
     "output_type": "stream",
     "text": [
      "\n",
      "Correct!\n",
      "\n"
     ]
    },
    {
     "name": "stdin",
     "output_type": "stream",
     "text": [
      "Do you want to try another word? (y/n): \n",
      " y\n"
     ]
    },
    {
     "name": "stdout",
     "output_type": "stream",
     "text": [
      "Hebrew for 'n. purpose, goal, objective; target'?\n",
      "1. זוג\n",
      "2. מַטָּרָה  \n",
      "3. אַדְרִיכָל\n",
      "4. יעיל\n"
     ]
    },
    {
     "name": "stdin",
     "output_type": "stream",
     "text": [
      "Choose the correct option (1-4):  2\n"
     ]
    },
    {
     "name": "stdout",
     "output_type": "stream",
     "text": [
      "\n",
      "Correct!\n",
      "\n"
     ]
    },
    {
     "name": "stdin",
     "output_type": "stream",
     "text": [
      "Do you want to try another word? (y/n): \n",
      " y\n"
     ]
    },
    {
     "name": "stdout",
     "output_type": "stream",
     "text": [
      "Hebrew for 'v. be broken'?\n",
      "1. חביתת עדשים\n",
      "2. לצפות, צופה\n",
      "3. רעב\n",
      "4. להישבר, נשבר\n"
     ]
    },
    {
     "name": "stdin",
     "output_type": "stream",
     "text": [
      "Choose the correct option (1-4):  2\n"
     ]
    },
    {
     "name": "stdout",
     "output_type": "stream",
     "text": [
      "\n",
      "Incorrect! The correct answer is 'להישבר, נשבר'.\n",
      "\n"
     ]
    },
    {
     "name": "stdin",
     "output_type": "stream",
     "text": [
      "Do you want to try another word? (y/n): \n",
      " y\n"
     ]
    },
    {
     "name": "stdout",
     "output_type": "stream",
     "text": [
      "Hebrew for 'n. artist'?\n",
      "1. כְּרֵישׁוֹת\n",
      "2. חייל\n",
      "3. מַשְׂכֹּורֶת, שָׂכָר\n",
      "4. אומן\n"
     ]
    },
    {
     "name": "stdin",
     "output_type": "stream",
     "text": [
      "Choose the correct option (1-4):  4\n"
     ]
    },
    {
     "name": "stdout",
     "output_type": "stream",
     "text": [
      "\n",
      "Correct!\n",
      "\n"
     ]
    },
    {
     "name": "stdin",
     "output_type": "stream",
     "text": [
      "Do you want to try another word? (y/n): \n",
      " y\n"
     ]
    },
    {
     "name": "stdout",
     "output_type": "stream",
     "text": [
      "Hebrew for 'n. monkey'?\n",
      "1. גַּעְגּוּעַ\n",
      "2. קרוב\n",
      "3. קוף\n",
      "4. לחמם, מחמם\n"
     ]
    },
    {
     "name": "stdin",
     "output_type": "stream",
     "text": [
      "Choose the correct option (1-4):  3\n"
     ]
    },
    {
     "name": "stdout",
     "output_type": "stream",
     "text": [
      "\n",
      "Correct!\n",
      "\n"
     ]
    },
    {
     "name": "stdin",
     "output_type": "stream",
     "text": [
      "Do you want to try another word? (y/n): \n",
      " y\n"
     ]
    },
    {
     "name": "stdout",
     "output_type": "stream",
     "text": [
      "Hebrew for 'n. jewlery'?\n",
      "1. סוג\n",
      "2. תַּכְשִׁיט\n",
      "3. שומר\n",
      "4. תלוי\n"
     ]
    },
    {
     "name": "stdin",
     "output_type": "stream",
     "text": [
      "Choose the correct option (1-4):  2\n"
     ]
    },
    {
     "name": "stdout",
     "output_type": "stream",
     "text": [
      "\n",
      "Correct!\n",
      "\n"
     ]
    },
    {
     "name": "stdin",
     "output_type": "stream",
     "text": [
      "Do you want to try another word? (y/n): \n",
      " y\n"
     ]
    },
    {
     "name": "stdout",
     "output_type": "stream",
     "text": [
      "Hebrew for 'adj. depend on'?\n",
      "1. חמור\n",
      "2. תלוי\n",
      "3. עונדים שרשראות\n",
      "4. רגע\n"
     ]
    },
    {
     "name": "stdin",
     "output_type": "stream",
     "text": [
      "Choose the correct option (1-4):  2\n"
     ]
    },
    {
     "name": "stdout",
     "output_type": "stream",
     "text": [
      "\n",
      "Correct!\n",
      "\n"
     ]
    },
    {
     "name": "stdin",
     "output_type": "stream",
     "text": [
      "Do you want to try another word? (y/n): \n",
      " n\n"
     ]
    },
    {
     "name": "stdout",
     "output_type": "stream",
     "text": [
      "Results saved to 'quiz_results.xlsx'.\n"
     ]
    }
   ],
   "source": [
    "## Run the quiz\n",
    "quiz()\n"
   ]
  },
  {
   "cell_type": "code",
   "execution_count": null,
   "id": "835222e1-f8b1-4531-8f89-ffdf1b4e4c67",
   "metadata": {},
   "outputs": [],
   "source": []
  }
 ],
 "metadata": {
  "kernelspec": {
   "display_name": "Python 3 (ipykernel)",
   "language": "python",
   "name": "python3"
  },
  "language_info": {
   "codemirror_mode": {
    "name": "ipython",
    "version": 3
   },
   "file_extension": ".py",
   "mimetype": "text/x-python",
   "name": "python",
   "nbconvert_exporter": "python",
   "pygments_lexer": "ipython3",
   "version": "3.11.9"
  }
 },
 "nbformat": 4,
 "nbformat_minor": 5
}
